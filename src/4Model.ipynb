{
 "cells": [
  {
   "cell_type": "markdown",
   "metadata": {},
   "source": [
    "# Setup\n"
   ]
  },
  {
   "cell_type": "code",
   "execution_count": 29,
   "metadata": {},
   "outputs": [
    {
     "name": "stdout",
     "output_type": "stream",
     "text": [
      "Using filtered_df.csv as dataset.\n"
     ]
    }
   ],
   "source": [
    "import pandas as pd\n",
    "from sklearn.cluster import KMeans\n",
    "from sklearn.decomposition import PCA\n",
    "from sklearn.feature_extraction.text import TfidfVectorizer\n",
    "import os\n",
    "\n",
    "# if ' training_df_.csv' in os.listdir('../data'):\n",
    "#     print(\"Partial dataset found!\")\n",
    "#     # use partial or full dataset\n",
    "#     df_file_name = 'filtered_df_synopsis.csv'\n",
    "# else:\n",
    "# use draft dataset\n",
    "df_file_name = 'filtered_df.csv'\n",
    "\n",
    "print(f\"Using {df_file_name} as dataset.\")\n",
    "    \n",
    "try:\n",
    "    df = pd.read_csv(f'../data/{df_file_name}', low_memory=False)\n",
    "except FileNotFoundError as e:\n",
    "    print(\"File not found. Download the IMDB_Dataset.\")\n",
    "    raise e\n"
   ]
  }
 ],
 "metadata": {
  "kernelspec": {
   "display_name": "base",
   "language": "python",
   "name": "python3"
  },
  "language_info": {
   "codemirror_mode": {
    "name": "ipython",
    "version": 3
   },
   "file_extension": ".py",
   "mimetype": "text/x-python",
   "name": "python",
   "nbconvert_exporter": "python",
   "pygments_lexer": "ipython3",
   "version": "3.9.13"
  }
 },
 "nbformat": 4,
 "nbformat_minor": 2
}
