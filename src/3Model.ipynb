{
 "cells": [
  {
   "cell_type": "code",
   "execution_count": 1,
   "metadata": {},
   "outputs": [],
   "source": [
    "import pandas as pd\n",
    "from sklearn.cluster import KMeans\n",
    "from sklearn.preprocessing import StandardScaler\n",
    "from sklearn.decomposition import PCA\n"
   ]
  },
  {
   "cell_type": "code",
   "execution_count": null,
   "metadata": {},
   "outputs": [],
   "source": [
    "\n",
    "# Load the dataset\n",
    "df = pd.read_csv('path_to_imdb_dataset.csv')\n",
    "\n",
    "# Preprocess the dataset (Assuming numerical features are selected)\n",
    "# For example, let's say you're using 'IMDB Rating' and 'Number Of Votes'\n",
    "features = df[['IMDB Rating', 'Number Of Votes']]\n",
    "\n",
    "# Standardize the features\n",
    "scaler = StandardScaler()\n",
    "features_scaled = scaler.fit_transform(features)\n",
    "\n",
    "# Optionally, reduce dimensionality\n",
    "pca = PCA(n_components=2)\n",
    "features_reduced = pca.fit_transform(features_scaled)\n",
    "\n",
    "# Apply K-Means Clustering\n",
    "kmeans = KMeans(n_clusters=5, random_state=42)  # Assuming 5 clusters\n",
    "kmeans.fit(features_reduced)\n",
    "\n",
    "# Assign clusters back to the original dataframe\n",
    "df['cluster'] = kmeans.labels_\n",
    "\n",
    "# Examine the resulting clusters\n",
    "print(df.groupby('cluster').mean())  # Replace mean() with any other summary statistics or operations\n",
    "\n",
    "# Optionally, visualize the clusters if you used PCA or another dimensionality reduction\n",
    "import matplotlib.pyplot as plt\n",
    "\n",
    "plt.scatter(features_reduced[:, 0], features_reduced[:, 1], c=kmeans.labels_, cmap='viridis')\n",
    "plt.xlabel('PCA Feature 1')\n",
    "plt.ylabel('PCA Feature 2')\n",
    "plt.title('Cluster Visualization')\n",
    "plt.show()\n"
   ]
  }
 ],
 "metadata": {
  "kernelspec": {
   "display_name": "base",
   "language": "python",
   "name": "python3"
  },
  "language_info": {
   "codemirror_mode": {
    "name": "ipython",
    "version": 3
   },
   "file_extension": ".py",
   "mimetype": "text/x-python",
   "name": "python",
   "nbconvert_exporter": "python",
   "pygments_lexer": "ipython3",
   "version": "3.9.13"
  }
 },
 "nbformat": 4,
 "nbformat_minor": 2
}
